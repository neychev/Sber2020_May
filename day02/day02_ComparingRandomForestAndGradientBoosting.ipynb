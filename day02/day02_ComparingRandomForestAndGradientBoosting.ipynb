{
 "cells": [
  {
   "cell_type": "markdown",
   "metadata": {
    "colab_type": "text",
    "id": "AX2c4OO2yFm_"
   },
   "source": [
    "# Random Forest (sklearn) vs XGBoost"
   ]
  },
  {
   "cell_type": "markdown",
   "metadata": {
    "colab_type": "text",
    "id": "G3VHMgvT1S0L"
   },
   "source": [
    "# В этом ноутбуке мы исследуем качество работы композиций алгоритмов на основе ансамблей деревьев в зависимости от числа деревьев в композиции"
   ]
  },
  {
   "cell_type": "markdown",
   "metadata": {
    "colab_type": "text",
    "id": "z92D_rRCyFnD"
   },
   "source": [
    "## sklearn.ensemble.RandomForestClassifier"
   ]
  },
  {
   "cell_type": "code",
   "execution_count": 0,
   "metadata": {
    "ExecuteTime": {
     "end_time": "2019-10-19T13:09:04.480023Z",
     "start_time": "2019-10-19T13:09:04.476344Z"
    },
    "colab": {},
    "colab_type": "code",
    "id": "5woRcUn6yFnF"
   },
   "outputs": [],
   "source": [
    "from sklearn import ensemble , model_selection, metrics \n",
    "from sklearn.model_selection import learning_curve\n",
    "\n",
    "import numpy as np\n",
    "import pandas as pd\n",
    "import xgboost as xgb\n",
    "import lightgbm as lgbm\n",
    "\n",
    "import warnings\n",
    "warnings.filterwarnings('ignore')"
   ]
  },
  {
   "cell_type": "code",
   "execution_count": 0,
   "metadata": {
    "ExecuteTime": {
     "end_time": "2019-10-19T13:09:04.488383Z",
     "start_time": "2019-10-19T13:09:04.482117Z"
    },
    "colab": {},
    "colab_type": "code",
    "id": "Fd0D42J9yFnK"
   },
   "outputs": [],
   "source": [
    "%pylab inline"
   ]
  },
  {
   "cell_type": "markdown",
   "metadata": {
    "colab_type": "text",
    "id": "5HhYfRmIyFnP"
   },
   "source": [
    "### Данные"
   ]
  },
  {
   "cell_type": "markdown",
   "metadata": {
    "colab_type": "text",
    "id": "eQUgtuPwyFnQ"
   },
   "source": [
    "Задача на kaggle: https://www.kaggle.com/gsdeepakkumar/visualisation-with-python-hr-data\n",
    "\n",
    "По характеристикам работы сотрудника требуется определить, уволится ли он из компании в течение ближайшего года.\n",
    "\n",
    "Для демонстрации используется обучающая выборка из исходных данных HR.csv, файл с данными прилагается."
   ]
  },
  {
   "cell_type": "code",
   "execution_count": 0,
   "metadata": {
    "colab": {},
    "colab_type": "code",
    "id": "MObc0XnHyLQY"
   },
   "outputs": [],
   "source": [
    "!wget https://raw.githubusercontent.com/dvpolyakov/ml_course/master/HR.csv"
   ]
  },
  {
   "cell_type": "code",
   "execution_count": 0,
   "metadata": {
    "ExecuteTime": {
     "end_time": "2019-10-19T14:20:29.030512Z",
     "start_time": "2019-10-19T14:20:28.389726Z"
    },
    "colab": {},
    "colab_type": "code",
    "id": "Qwzjrcz_yFnQ"
   },
   "outputs": [],
   "source": [
    "HR_data = pd.read_csv('HR.csv', header=0, sep=',')"
   ]
  },
  {
   "cell_type": "code",
   "execution_count": 0,
   "metadata": {
    "ExecuteTime": {
     "end_time": "2019-10-19T14:20:30.788667Z",
     "start_time": "2019-10-19T14:20:30.771529Z"
    },
    "colab": {},
    "colab_type": "code",
    "id": "9jvjcZ-8yFnW"
   },
   "outputs": [],
   "source": [
    "HR_data.head()"
   ]
  },
  {
   "cell_type": "markdown",
   "metadata": {
    "colab_type": "text",
    "id": "TEDHQR1vBqx8"
   },
   "source": [
    "- `last_evaluation` - рейтинг сотрудника по итогам последнего ревью (от 0 до 1)\n",
    "- `number_project` - число успешно завершенных проектов за последний год\n",
    "- `average_montly_hours` - среднее число отработанных в месяц часов\n",
    "- `time_spend_company` - сколько лет сотрудник уже работает в компании\n",
    "- `Work_accident` - случались ли серьезные рабочие конфликты за время работы\n",
    "- `promotion_last_5years` - сколько раз за повледние 5 лет повышалась должность сотрудника\n",
    "\n",
    "- `left` - ушел ли сотрудник из компании в течение следующего года (целевая переменная)"
   ]
  },
  {
   "cell_type": "code",
   "execution_count": 0,
   "metadata": {
    "ExecuteTime": {
     "end_time": "2019-10-19T14:20:58.605541Z",
     "start_time": "2019-10-19T14:20:58.562056Z"
    },
    "colab": {},
    "colab_type": "code",
    "id": "9NLWuodJyFna"
   },
   "outputs": [],
   "source": [
    "HR_target = HR_data['left'].values\n",
    "\n",
    "HR_data.drop(['left'], axis=1, inplace=True)\n",
    "HR_data.head()"
   ]
  },
  {
   "cell_type": "markdown",
   "metadata": {
    "colab_type": "text",
    "id": "Gxgd8f5uyFnd"
   },
   "source": [
    "## Зависимость качества от количества деревьев"
   ]
  },
  {
   "cell_type": "markdown",
   "metadata": {
    "colab_type": "text",
    "id": "I-ky-_9qyFne"
   },
   "source": [
    "### RandomForestClassifier"
   ]
  },
  {
   "cell_type": "code",
   "execution_count": 0,
   "metadata": {
    "ExecuteTime": {
     "end_time": "2019-10-19T13:09:05.286477Z",
     "start_time": "2019-10-19T13:09:05.283615Z"
    },
    "colab": {},
    "colab_type": "code",
    "id": "JsssAP0AyFnf"
   },
   "outputs": [],
   "source": [
    "n_trees = [1] + list(range(5, 55, 5))"
   ]
  },
  {
   "cell_type": "code",
   "execution_count": 0,
   "metadata": {
    "ExecuteTime": {
     "end_time": "2019-10-19T14:21:06.831318Z",
     "start_time": "2019-10-19T14:21:06.823653Z"
    },
    "colab": {},
    "colab_type": "code",
    "id": "Csjemw1NyFnh"
   },
   "outputs": [],
   "source": [
    "ensemble.RandomForestClassifier?"
   ]
  },
  {
   "cell_type": "code",
   "execution_count": 0,
   "metadata": {
    "colab": {},
    "colab_type": "code",
    "id": "fCjof7tbz8cc"
   },
   "outputs": [],
   "source": [
    "from tqdm import tqdm_notebook "
   ]
  },
  {
   "cell_type": "code",
   "execution_count": 0,
   "metadata": {
    "ExecuteTime": {
     "end_time": "2019-10-19T13:09:17.238318Z",
     "start_time": "2019-10-19T13:09:05.297491Z"
    },
    "colab": {},
    "colab_type": "code",
    "id": "sRMIodVRyFnm"
   },
   "outputs": [],
   "source": [
    "%%time\n",
    "scoring = []\n",
    "for n_tree in tqdm_notebook(n_trees):\n",
    "    estimator = ensemble.RandomForestClassifier(n_estimators = n_tree, min_samples_split=5, random_state=1)\n",
    "    score = model_selection.cross_val_score(\n",
    "        estimator, HR_data, HR_target, \n",
    "        scoring = 'accuracy', cv = 3\n",
    "    )    \n",
    "    scoring.append(score)\n",
    "scoring = np.asmatrix(scoring)"
   ]
  },
  {
   "cell_type": "code",
   "execution_count": 0,
   "metadata": {
    "ExecuteTime": {
     "end_time": "2019-10-19T13:09:17.410053Z",
     "start_time": "2019-10-19T13:09:17.239785Z"
    },
    "colab": {},
    "colab_type": "code",
    "id": "TqpN3ROmyFnq"
   },
   "outputs": [],
   "source": [
    "plt.figure(figsize=(9, 6))\n",
    "pylab.plot(n_trees, scoring.mean(axis = 1), marker='.', label='RandomForest')\n",
    "pylab.grid(True)\n",
    "pylab.xlabel('n_trees')\n",
    "pylab.ylabel('score')\n",
    "pylab.title('Accuracy score')\n",
    "pylab.legend(loc='lower right');"
   ]
  },
  {
   "cell_type": "markdown",
   "metadata": {
    "colab_type": "text",
    "id": "eEY9xbkoyFnt"
   },
   "source": [
    "### XGBoost"
   ]
  },
  {
   "cell_type": "code",
   "execution_count": 0,
   "metadata": {
    "ExecuteTime": {
     "end_time": "2019-10-19T13:12:21.388205Z",
     "start_time": "2019-10-19T13:09:17.411184Z"
    },
    "colab": {},
    "colab_type": "code",
    "id": "OtBiAaHLyFnv",
    "scrolled": true
   },
   "outputs": [],
   "source": [
    "%%time\n",
    "xgb_scoring = []\n",
    "for n_tree in tqdm_notebook(n_trees):\n",
    "    estimator = xgb.XGBClassifier(learning_rate=0.1, max_depth=6, n_estimators=n_tree)\n",
    "    score = model_selection.cross_val_score(\n",
    "        estimator, HR_data, HR_target,\n",
    "        scoring = 'accuracy', cv = 3\n",
    "    )    \n",
    "    xgb_scoring.append(score)\n",
    "xgb_scoring = np.asmatrix(xgb_scoring)"
   ]
  },
  {
   "cell_type": "markdown",
   "metadata": {
    "colab_type": "text",
    "id": "4HBsQEHopMl_"
   },
   "source": [
    "## Сравним метрики качества RandomForest и XGBoost"
   ]
  },
  {
   "cell_type": "code",
   "execution_count": 0,
   "metadata": {
    "ExecuteTime": {
     "end_time": "2019-10-19T13:12:21.609358Z",
     "start_time": "2019-10-19T13:12:21.389635Z"
    },
    "colab": {},
    "colab_type": "code",
    "id": "oHIoToLXyFny"
   },
   "outputs": [],
   "source": [
    "plt.figure(figsize=(9, 6))\n",
    "pylab.plot(n_trees, scoring.mean(axis = 1), marker='.', label='RandomForest')\n",
    "pylab.plot(n_trees, xgb_scoring.mean(axis = 1), marker='.', label='XGBoost')\n",
    "pylab.grid(True)\n",
    "pylab.xlabel('n_trees')\n",
    "pylab.ylabel('score')\n",
    "pylab.title('Accuracy score')\n",
    "pylab.legend(loc='lower right')"
   ]
  },
  {
   "cell_type": "markdown",
   "metadata": {
    "colab_type": "text",
    "id": "5uXIkRQ4ttox"
   },
   "source": [
    "Видим, что градиентный бустинг на этих данных работает лучше"
   ]
  },
  {
   "cell_type": "markdown",
   "metadata": {
    "colab_type": "text",
    "id": "7wqX-5v5uW8G"
   },
   "source": [
    "**Задание**\n",
    "\n",
    "Поэкспериментируйте с параметрами модели XGBoost чтобы добиться лучшего качества.\n",
    "\n",
    "Вот лишь малый список параметров, которые можно оптимизировать:\n",
    "- темп обучения (`learning_rate`)\n",
    "- число деревьев в композиции (`n_estimators`)\n",
    "- максимальная глубина деревьев (`max_depth`)"
   ]
  },
  {
   "cell_type": "code",
   "execution_count": 0,
   "metadata": {
    "colab": {},
    "colab_type": "code",
    "id": "C2CxldoM52La"
   },
   "outputs": [],
   "source": []
  },
  {
   "cell_type": "code",
   "execution_count": 0,
   "metadata": {
    "colab": {},
    "colab_type": "code",
    "id": "_vNPif5452Oe"
   },
   "outputs": [],
   "source": []
  },
  {
   "cell_type": "markdown",
   "metadata": {
    "colab_type": "text",
    "id": "uHg2IR-Cpaol"
   },
   "source": [
    "## Теперь проинтерпретируем предсказания моделей с помощью библиотеки SHAP values\n",
    "\n",
    "- [Ссылка на основной репозиторий модуля](https://github.com/slundberg/shap)\n",
    "\n",
    "- [Статья с примерами применения SHAP values](https://towardsdatascience.com/explain-your-model-with-the-shap-values-bc36aac4de3d)\n",
    "\n",
    "- [Документация по модулю SHAP](https://christophm.github.io/interpretable-ml-book/shap.html)"
   ]
  },
  {
   "cell_type": "markdown",
   "metadata": {
    "colab_type": "text",
    "id": "UeZsRF3XqMsT"
   },
   "source": [
    "## SHAP values пришли из кооперативной теории игр. Позволяют получать несмещенные оценки важности признаков для каждого объекта"
   ]
  },
  {
   "cell_type": "code",
   "execution_count": 0,
   "metadata": {
    "colab": {},
    "colab_type": "code",
    "id": "XAOlA-2h5oXv"
   },
   "outputs": [],
   "source": [
    "!pip install shap"
   ]
  },
  {
   "cell_type": "code",
   "execution_count": 0,
   "metadata": {
    "colab": {},
    "colab_type": "code",
    "id": "aq5NVv2q5hzt"
   },
   "outputs": [],
   "source": [
    "import shap\n",
    "shap.initjs()"
   ]
  },
  {
   "cell_type": "markdown",
   "metadata": {
    "colab_type": "text",
    "id": "dYzrYGcntNTO"
   },
   "source": [
    "### Создайте объект `XGBClassifier` с параметрами \n",
    "\n",
    "- `objective=\"binary:logistic\"`\n",
    "- `learning_rate=0.1`\n",
    "- `max_depth=6`\n",
    "- `n_estimators=50`"
   ]
  },
  {
   "cell_type": "code",
   "execution_count": 0,
   "metadata": {
    "colab": {},
    "colab_type": "code",
    "id": "erYsAynlrx2w"
   },
   "outputs": [],
   "source": [
    "clf = xgb.XGBClassifier(#YOUR CODE HERE)\n",
    "clf.fit(HR_data, HR_target, verbose=True)"
   ]
  },
  {
   "cell_type": "code",
   "execution_count": 0,
   "metadata": {
    "colab": {},
    "colab_type": "code",
    "id": "V5ZbCtXq5sSX"
   },
   "outputs": [],
   "source": [
    "explainer = shap.TreeExplainer(clf, feature_dependence=\"independent\")\n",
    "shap_values = explainer.shap_values(HR_data)"
   ]
  },
  {
   "cell_type": "markdown",
   "metadata": {
    "colab_type": "text",
    "id": "PXYvjFn4qaYl"
   },
   "source": [
    "## Посмотрим на предсказание для отдельного работника и на факторы, которые по мнению модели являются самыми важными"
   ]
  },
  {
   "cell_type": "code",
   "execution_count": 0,
   "metadata": {
    "colab": {},
    "colab_type": "code",
    "id": "bLZpokV05h4H"
   },
   "outputs": [],
   "source": [
    "shap.initjs()\n",
    "worker_id = 0\n",
    "shap.force_plot(explainer.expected_value, shap_values[worker_id,:], HR_data.iloc[worker_id,:], link='logit')"
   ]
  },
  {
   "cell_type": "markdown",
   "metadata": {
    "colab_type": "text",
    "id": "vbKLYVclssfO"
   },
   "source": [
    "## Посмотрим картину для всех объектов вместе"
   ]
  },
  {
   "cell_type": "code",
   "execution_count": 0,
   "metadata": {
    "colab": {},
    "colab_type": "code",
    "id": "NSrN5WeH93_6"
   },
   "outputs": [],
   "source": [
    "shap.initjs()\n",
    "shap.force_plot(explainer.expected_value, shap_values, HR_data, link='logit')"
   ]
  },
  {
   "cell_type": "markdown",
   "metadata": {
    "colab_type": "text",
    "id": "Es_eLDnAszCV"
   },
   "source": [
    "## Посмотрим на рапеределение признаков и на их влияение на целевую переменную"
   ]
  },
  {
   "cell_type": "code",
   "execution_count": 0,
   "metadata": {
    "colab": {},
    "colab_type": "code",
    "id": "JJzTjfTY6U6v"
   },
   "outputs": [],
   "source": [
    "shap.summary_plot(shap_values, HR_data)"
   ]
  },
  {
   "cell_type": "markdown",
   "metadata": {
    "colab_type": "text",
    "id": "uGHfRqZVyFn4"
   },
   "source": [
    "#### **Материалы по xgboost:**\n",
    "python api: http://xgboost.readthedocs.org/en/latest/python/python_api.html"
   ]
  },
  {
   "cell_type": "markdown",
   "metadata": {
    "colab_type": "text",
    "collapsed": true,
    "id": "yXFeMe8nyFn7"
   },
   "source": [
    "### Catboost"
   ]
  },
  {
   "cell_type": "code",
   "execution_count": 0,
   "metadata": {
    "colab": {},
    "colab_type": "code",
    "id": "TPC91Lu7yOdp"
   },
   "outputs": [],
   "source": [
    "!pip install catboost"
   ]
  },
  {
   "cell_type": "code",
   "execution_count": 0,
   "metadata": {
    "ExecuteTime": {
     "end_time": "2019-10-19T13:12:52.034600Z",
     "start_time": "2019-10-19T13:12:21.610667Z"
    },
    "colab": {},
    "colab_type": "code",
    "id": "Tivlf6jmyFn8"
   },
   "outputs": [],
   "source": [
    "import catboost\n",
    "\n",
    "%%time\n",
    "catboost_scoring = []\n",
    "for n_tree in tqdm_notebook(n_trees):\n",
    "    estimator = catboost.CatBoostClassifier(max_depth=6, n_estimators=n_tree, verbose=False)\n",
    "    score = model_selection.cross_val_score(\n",
    "        estimator, bioresponce_data, bioresponce_target,\n",
    "        scoring = 'accuracy', cv=3\n",
    "    ) \n",
    "    catboost_scoring.append(score)\n",
    "catboost_scoring = np.asmatrix(catboost_scoring)"
   ]
  },
  {
   "cell_type": "markdown",
   "metadata": {
    "colab_type": "text",
    "id": "t2Bd-Ii0yFn_"
   },
   "source": [
    "#### **Материалы по Catboost:**\n",
    "python api: https://tech.yandex.com/catboost/doc/dg/concepts/python-quickstart-docpage/"
   ]
  },
  {
   "cell_type": "markdown",
   "metadata": {
    "colab_type": "text",
    "id": "A_KT1-xoyFoA"
   },
   "source": [
    "### LightGBM"
   ]
  },
  {
   "cell_type": "code",
   "execution_count": 0,
   "metadata": {
    "ExecuteTime": {
     "end_time": "2019-10-19T14:29:32.750719Z",
     "start_time": "2019-10-19T14:28:56.772686Z"
    },
    "colab": {},
    "colab_type": "code",
    "id": "iQJwpEElyFoB"
   },
   "outputs": [],
   "source": [
    "%%time\n",
    "lgbm_scoring = []\n",
    "for n_tree in tqdm_notebook(n_trees):\n",
    "    estimator = lgbm.LGBMClassifier(learning_rate=0.1, max_depth=6, n_estimators=n_tree)\n",
    "    score = model_selection.cross_val_score(\n",
    "        estimator, bioresponce_data, bioresponce_target,\n",
    "        scoring='accuracy', cv=3\n",
    "    )    \n",
    "    lgbm_scoring.append(score)\n",
    "lgbm_scoring = np.asmatrix(lgbm_scoring)"
   ]
  },
  {
   "cell_type": "markdown",
   "metadata": {
    "colab_type": "text",
    "id": "fzzGDwFzyFoE"
   },
   "source": [
    "#### **Материалы по LightGMB:**\n",
    "https://lightgbm.readthedocs.io/en/latest/Python-API.html#scikit-learn-api"
   ]
  },
  {
   "cell_type": "code",
   "execution_count": 0,
   "metadata": {
    "ExecuteTime": {
     "end_time": "2019-10-19T14:29:33.014246Z",
     "start_time": "2019-10-19T14:29:32.752609Z"
    },
    "colab": {},
    "colab_type": "code",
    "id": "wDMJYXU-yFoF"
   },
   "outputs": [],
   "source": [
    "plt.figure(figsize=(9, 6))\n",
    "\n",
    "pylab.plot(n_trees, scoring.mean(axis=1), marker='.', label='RandomForest')\n",
    "pylab.plot(n_trees, xgb_scoring.mean(axis=1), marker='.', label='XGBoost')\n",
    "pylab.plot(n_trees, catboost_scoring.mean(axis=1), marker='.', label='Catboost')\n",
    "pylab.plot(n_trees, lgbm_scoring.mean(axis=1), marker='.', label='LGBMClassifier')\n",
    "pylab.grid(True)\n",
    "pylab.xlabel('n_trees')\n",
    "pylab.ylabel('score')\n",
    "pylab.title('Accuracy score')\n",
    "pylab.legend(loc='lower right');"
   ]
  },
  {
   "cell_type": "code",
   "execution_count": 0,
   "metadata": {
    "colab": {},
    "colab_type": "code",
    "id": "rbrGtWuItCTq"
   },
   "outputs": [],
   "source": []
  }
 ],
 "metadata": {
  "anaconda-cloud": {},
  "colab": {
   "collapsed_sections": [],
   "name": "ComparingRandomForestAndGradientBoosting.ipynb",
   "provenance": []
  },
  "kernelspec": {
   "display_name": "Py3 research env",
   "language": "python",
   "name": "py3_research"
  },
  "language_info": {
   "codemirror_mode": {
    "name": "ipython",
    "version": 3
   },
   "file_extension": ".py",
   "mimetype": "text/x-python",
   "name": "python",
   "nbconvert_exporter": "python",
   "pygments_lexer": "ipython3",
   "version": "3.6.7"
  },
  "toc": {
   "base_numbering": 1,
   "nav_menu": {},
   "number_sections": true,
   "sideBar": true,
   "skip_h1_title": false,
   "title_cell": "Table of Contents",
   "title_sidebar": "Contents",
   "toc_cell": false,
   "toc_position": {},
   "toc_section_display": true,
   "toc_window_display": false
  }
 },
 "nbformat": 4,
 "nbformat_minor": 1
}
